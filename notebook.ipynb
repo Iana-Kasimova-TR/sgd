{
 "cells": [
  {
   "cell_type": "code",
   "execution_count": 1,
   "metadata": {},
   "outputs": [],
   "source": [
    "import numpy as np\n",
    "from numpy import linalg as LA\n",
    "import sgd"
   ]
  },
  {
   "cell_type": "code",
   "execution_count": 2,
   "metadata": {},
   "outputs": [],
   "source": [
    "token_number, dict_title, dict_text, dict_incorrect_text = sgd.read_source(\"test-2.csv\")"
   ]
  },
  {
   "cell_type": "code",
   "execution_count": 3,
   "metadata": {},
   "outputs": [],
   "source": [
    "#stratify sample on validation and train set\n",
    "val_keys = list(dict_text.keys())[-1520:]\n",
    "train_keys = list(dict_text.keys())[0:-1520]\n",
    "\n",
    "dict_title_val = {idx: dict_title.get(item) for idx, item in enumerate(val_keys)}\n",
    "dict_text_val =  dict = {idx: dict_text.get(item) for idx, item in enumerate(val_keys)}\n",
    "dict_text = {item: dict_text.get(item) for item in train_keys}\n",
    "dict_title = {item: dict_title.get(item) for item in train_keys}\n",
    "dict_incorrect_text = {item: dict_incorrect_text.get(item) for item in train_keys}"
   ]
  },
  {
   "cell_type": "code",
   "execution_count": 4,
   "metadata": {},
   "outputs": [],
   "source": [
    "embed_size = 300\n",
    "mtx_embed =np.random.randn(len(token_number), embed_size).astype(np.float32) * 1e-6\n",
    "mtx_grad = np.full_like(mtx_embed, 1e-8, dtype=np.float32)"
   ]
  },
  {
   "cell_type": "code",
   "execution_count": 5,
   "metadata": {},
   "outputs": [
    {
     "ename": "ValueError",
     "evalue": "shape too large to be a matrix.",
     "output_type": "error",
     "traceback": [
      "\u001b[0;31m---------------------------------------------------------------------------\u001b[0m",
      "\u001b[0;31mValueError\u001b[0m                                Traceback (most recent call last)",
      "\u001b[1;32m/Users/Iana_Kasimova/sgd/notebook.ipynb Cell 5'\u001b[0m in \u001b[0;36m<cell line: 5>\u001b[0;34m()\u001b[0m\n\u001b[1;32m     <a href='vscode-notebook-cell:/Users/Iana_Kasimova/sgd/notebook.ipynb#ch0000012?line=32'>33</a>\u001b[0m mtx_title \u001b[39m=\u001b[39m sgd\u001b[39m.\u001b[39mget_document_term_sparse_mtx(dict_title_val, token_number)\n\u001b[1;32m     <a href='vscode-notebook-cell:/Users/Iana_Kasimova/sgd/notebook.ipynb#ch0000012?line=33'>34</a>\u001b[0m mtx_text \u001b[39m=\u001b[39m sgd\u001b[39m.\u001b[39mget_document_term_sparse_mtx(dict_text_val, token_number)\n\u001b[0;32m---> <a href='vscode-notebook-cell:/Users/Iana_Kasimova/sgd/notebook.ipynb#ch0000012?line=34'>35</a>\u001b[0m mtx_title \u001b[39m=\u001b[39m mtx_title\u001b[39m/\u001b[39;49mmtx_title\u001b[39m.\u001b[39;49msum(axis\u001b[39m=\u001b[39;49m\u001b[39m1\u001b[39;49m)[:, np\u001b[39m.\u001b[39;49mnewaxis]\n\u001b[1;32m     <a href='vscode-notebook-cell:/Users/Iana_Kasimova/sgd/notebook.ipynb#ch0000012?line=35'>36</a>\u001b[0m mtx_text \u001b[39m=\u001b[39m mtx_text\u001b[39m/\u001b[39mmtx_text\u001b[39m.\u001b[39msum(axis\u001b[39m=\u001b[39m\u001b[39m1\u001b[39m)[:, np\u001b[39m.\u001b[39mnewaxis]\n\u001b[1;32m     <a href='vscode-notebook-cell:/Users/Iana_Kasimova/sgd/notebook.ipynb#ch0000012?line=36'>37</a>\u001b[0m mtx_title \u001b[39m=\u001b[39m mtx_title\u001b[39m.\u001b[39mdot(mtx_embed)\n",
      "File \u001b[0;32m/Library/Frameworks/Python.framework/Versions/3.9/lib/python3.9/site-packages/scipy/sparse/_base.py:676\u001b[0m, in \u001b[0;36mspmatrix.__truediv__\u001b[0;34m(self, other)\u001b[0m\n\u001b[1;32m    <a href='file:///Library/Frameworks/Python.framework/Versions/3.9/lib/python3.9/site-packages/scipy/sparse/_base.py?line=674'>675</a>\u001b[0m \u001b[39mdef\u001b[39;00m \u001b[39m__truediv__\u001b[39m(\u001b[39mself\u001b[39m, other):\n\u001b[0;32m--> <a href='file:///Library/Frameworks/Python.framework/Versions/3.9/lib/python3.9/site-packages/scipy/sparse/_base.py?line=675'>676</a>\u001b[0m     \u001b[39mreturn\u001b[39;00m \u001b[39mself\u001b[39;49m\u001b[39m.\u001b[39;49m_divide(other, true_divide\u001b[39m=\u001b[39;49m\u001b[39mTrue\u001b[39;49;00m)\n",
      "File \u001b[0;32m/Library/Frameworks/Python.framework/Versions/3.9/lib/python3.9/site-packages/scipy/sparse/_base.py:655\u001b[0m, in \u001b[0;36mspmatrix._divide\u001b[0;34m(self, other, true_divide, rdivide)\u001b[0m\n\u001b[1;32m    <a href='file:///Library/Frameworks/Python.framework/Versions/3.9/lib/python3.9/site-packages/scipy/sparse/_base.py?line=652'>653</a>\u001b[0m \u001b[39mif\u001b[39;00m \u001b[39mnot\u001b[39;00m rdivide:\n\u001b[1;32m    <a href='file:///Library/Frameworks/Python.framework/Versions/3.9/lib/python3.9/site-packages/scipy/sparse/_base.py?line=653'>654</a>\u001b[0m     \u001b[39mif\u001b[39;00m true_divide:\n\u001b[0;32m--> <a href='file:///Library/Frameworks/Python.framework/Versions/3.9/lib/python3.9/site-packages/scipy/sparse/_base.py?line=654'>655</a>\u001b[0m         \u001b[39mreturn\u001b[39;00m np\u001b[39m.\u001b[39;49mtrue_divide(\u001b[39mself\u001b[39;49m\u001b[39m.\u001b[39;49mtodense(), other)\n\u001b[1;32m    <a href='file:///Library/Frameworks/Python.framework/Versions/3.9/lib/python3.9/site-packages/scipy/sparse/_base.py?line=655'>656</a>\u001b[0m     \u001b[39melse\u001b[39;00m:\n\u001b[1;32m    <a href='file:///Library/Frameworks/Python.framework/Versions/3.9/lib/python3.9/site-packages/scipy/sparse/_base.py?line=656'>657</a>\u001b[0m         \u001b[39mreturn\u001b[39;00m np\u001b[39m.\u001b[39mdivide(\u001b[39mself\u001b[39m\u001b[39m.\u001b[39mtodense(), other)\n",
      "File \u001b[0;32m/Library/Frameworks/Python.framework/Versions/3.9/lib/python3.9/site-packages/numpy/matrixlib/defmatrix.py:180\u001b[0m, in \u001b[0;36mmatrix.__array_finalize__\u001b[0;34m(self, obj)\u001b[0m\n\u001b[1;32m    <a href='file:///Library/Frameworks/Python.framework/Versions/3.9/lib/python3.9/site-packages/numpy/matrixlib/defmatrix.py?line=177'>178</a>\u001b[0m         \u001b[39mreturn\u001b[39;00m\n\u001b[1;32m    <a href='file:///Library/Frameworks/Python.framework/Versions/3.9/lib/python3.9/site-packages/numpy/matrixlib/defmatrix.py?line=178'>179</a>\u001b[0m     \u001b[39melif\u001b[39;00m (ndim \u001b[39m>\u001b[39m \u001b[39m2\u001b[39m):\n\u001b[0;32m--> <a href='file:///Library/Frameworks/Python.framework/Versions/3.9/lib/python3.9/site-packages/numpy/matrixlib/defmatrix.py?line=179'>180</a>\u001b[0m         \u001b[39mraise\u001b[39;00m \u001b[39mValueError\u001b[39;00m(\u001b[39m\"\u001b[39m\u001b[39mshape too large to be a matrix.\u001b[39m\u001b[39m\"\u001b[39m)\n\u001b[1;32m    <a href='file:///Library/Frameworks/Python.framework/Versions/3.9/lib/python3.9/site-packages/numpy/matrixlib/defmatrix.py?line=180'>181</a>\u001b[0m \u001b[39melse\u001b[39;00m:\n\u001b[1;32m    <a href='file:///Library/Frameworks/Python.framework/Versions/3.9/lib/python3.9/site-packages/numpy/matrixlib/defmatrix.py?line=181'>182</a>\u001b[0m     newshape \u001b[39m=\u001b[39m \u001b[39mself\u001b[39m\u001b[39m.\u001b[39mshape\n",
      "\u001b[0;31mValueError\u001b[0m: shape too large to be a matrix."
     ]
    }
   ],
   "source": [
    "#build epoch\n",
    "epoch = 50\n",
    "learning_rate = 0.1\n",
    "good_quality = 0.8\n",
    "for i in range(epoch):\n",
    "    #get only first 100 documents\n",
    "    for idx in range(len(dict_text)):\n",
    "        title_indices = dict_title[idx]\n",
    "        text_indices = dict_text[idx]\n",
    "        incor_text_indices = dict_incorrect_text[idx]\n",
    "        title_vec = sgd.doc_to_vec(title_indices, mtx_embed)\n",
    "        text_vec = sgd.doc_to_vec(text_indices, mtx_embed)\n",
    "        incor_text_vec = sgd.doc_to_vec(incor_text_indices, mtx_embed)\n",
    "\n",
    "        loss = sgd.calculate_loss(title_vec, text_vec, incor_text_vec)\n",
    "        grad_anchor, grad_truth, grad_wrong = sgd.calculate_gradient(title_vec, text_vec, incor_text_vec)\n",
    "    \n",
    "        #add vector to every row of matrix\n",
    "        #update accumulative matrix of gradient - keep it, it has influence on learning rate, if our parameter was changed a lot, it has less changes in future as learning rate will be decreased \n",
    "        mtx_grad[title_indices] += np.square(grad_anchor)/len(title_indices)\n",
    "        mtx_grad[text_indices] += np.square(grad_truth)/len(text_indices)\n",
    "        mtx_grad[incor_text_indices] += np.square(grad_wrong)/len(incor_text_indices)\n",
    "\n",
    "        #update matrix of embeddings\n",
    "        mtx_embed[title_indices] -= (learning_rate * grad_anchor/np.sqrt(mtx_grad[title_indices]))\n",
    "        mtx_embed[text_indices] -= (learning_rate * grad_truth/np.sqrt(mtx_grad[text_indices]))\n",
    "        mtx_embed[incor_text_indices] -= (learning_rate * grad_wrong/np.sqrt(mtx_grad[incor_text_indices]))\n",
    "\n",
    "    #calculate the metric in the end of epoch\n",
    "    # we need validation set for it - now get last 10 docs\n",
    "    #number docs on dictionary - 1 and 0 / on number words in doc\n",
    "    number_of_docs = len(dict_title_val)\n",
    "    mtx_title = sgd.get_document_term_sparse_mtx(dict_title_val, token_number)\n",
    "    mtx_text = sgd.get_document_term_sparse_mtx(dict_text_val, token_number)\n",
    "    mtx_title = (mtx_title/mtx_title.sum(axis=1))[:, np.newaxis]\n",
    "    mtx_text = (mtx_text/mtx_text.sum(axis=1))[:, np.newaxis]\n",
    "    mtx_title = mtx_title.dot(mtx_embed)\n",
    "    mtx_text = mtx_text.dot(mtx_embed)\n",
    "    #calculate matrix of title_indices and text_indices and multiply it, look on diag   \n",
    "    res = mtx_title.dot(mtx_text.T)\n",
    "    indexes = np.argmax(res, axis=1)\n",
    "    counter = 0   \n",
    "    for idx in range(number_of_docs):\n",
    "        if (idx == indexes[idx]):\n",
    "            counter += 1\n",
    "    print(\"This is value of metric\")\n",
    "    print(counter/number_of_docs)\n",
    "    #criteria for early stop\n",
    "    if(counter/number_of_docs > good_quality):\n",
    "        break;        \n",
    "\n",
    "\n"
   ]
  },
  {
   "cell_type": "code",
   "execution_count": null,
   "metadata": {},
   "outputs": [
    {
     "data": {
      "text/plain": [
       "<1520x31726 sparse matrix of type '<class 'numpy.float64'>'\n",
       "\twith 10296 stored elements in Compressed Sparse Row format>"
      ]
     },
     "execution_count": 6,
     "metadata": {},
     "output_type": "execute_result"
    }
   ],
   "source": [
    "mtx_title"
   ]
  },
  {
   "cell_type": "code",
   "execution_count": null,
   "metadata": {},
   "outputs": [],
   "source": [
    "a = mtx_embed.dot(mtx_embed.T)\n",
    "result = np.argmax(a, axis=1)"
   ]
  },
  {
   "cell_type": "code",
   "execution_count": null,
   "metadata": {},
   "outputs": [
    {
     "data": {
      "text/plain": [
       "array([409, 285, 409, ...,  71,  71,  71])"
      ]
     },
     "execution_count": 27,
     "metadata": {},
     "output_type": "execute_result"
    }
   ],
   "source": [
    "result"
   ]
  },
  {
   "cell_type": "code",
   "execution_count": null,
   "metadata": {},
   "outputs": [
    {
     "data": {
      "text/plain": [
       "'Reuters'"
      ]
     },
     "execution_count": 28,
     "metadata": {},
     "output_type": "execute_result"
    }
   ],
   "source": [
    "list(token_number.keys())[list(token_number.values())[409]] "
   ]
  },
  {
   "cell_type": "code",
   "execution_count": null,
   "metadata": {},
   "outputs": [
    {
     "data": {
      "text/plain": [
       "1"
      ]
     },
     "execution_count": 43,
     "metadata": {},
     "output_type": "execute_result"
    }
   ],
   "source": [
    "counter"
   ]
  },
  {
   "cell_type": "code",
   "execution_count": null,
   "metadata": {},
   "outputs": [],
   "source": [
    "counter = 0\n",
    "for idx in range(number_of_docs):\n",
    "    if idx == np.argmax(res, axis=1)[0]:\n",
    "        counter += 1\n"
   ]
  }
 ],
 "metadata": {
  "interpreter": {
   "hash": "397704579725e15f5c7cb49fe5f0341eb7531c82d19f2c29d197e8b64ab5776b"
  },
  "kernelspec": {
   "display_name": "Python 3.9.5 64-bit",
   "language": "python",
   "name": "python3"
  },
  "language_info": {
   "codemirror_mode": {
    "name": "ipython",
    "version": 3
   },
   "file_extension": ".py",
   "mimetype": "text/x-python",
   "name": "python",
   "nbconvert_exporter": "python",
   "pygments_lexer": "ipython3",
   "version": "3.9.5"
  },
  "orig_nbformat": 4
 },
 "nbformat": 4,
 "nbformat_minor": 2
}
