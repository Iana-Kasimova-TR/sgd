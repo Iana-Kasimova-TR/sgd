{
 "cells": [
  {
   "cell_type": "code",
   "execution_count": 1,
   "metadata": {},
   "outputs": [],
   "source": [
    "import numpy as np\n",
    "import matplotlib.pylab as plt\n",
    "from numpy import linalg as LA\n",
    "import sgd"
   ]
  },
  {
   "cell_type": "code",
   "execution_count": 2,
   "metadata": {},
   "outputs": [],
   "source": [
    "token_number, dict_title, dict_text, dict_incorrect_text = sgd.read_source(\"test-2.csv\")"
   ]
  },
  {
   "cell_type": "code",
   "execution_count": 3,
   "metadata": {},
   "outputs": [],
   "source": [
    "#stratify sample on validation and train set\n",
    "val_keys = list(dict_text.keys())[-1520:]\n",
    "train_keys = list(dict_text.keys())[0:-1520]\n",
    "\n",
    "dict_title_val = {idx: dict_title.get(item) for idx, item in enumerate(val_keys)}\n",
    "dict_text_val =  dict = {idx: dict_text.get(item) for idx, item in enumerate(val_keys)}\n",
    "dict_text = {item: dict_text.get(item) for item in train_keys}\n",
    "dict_title = {item: dict_title.get(item) for item in train_keys}\n",
    "dict_incorrect_text = {item: dict_incorrect_text.get(item) for item in train_keys}"
   ]
  },
  {
   "cell_type": "code",
   "execution_count": 4,
   "metadata": {},
   "outputs": [],
   "source": [
    "embed_size = 300\n",
    "mtx_embed =np.random.randn(len(token_number), embed_size).astype(np.float32) * 1e-6\n",
    "mtx_grad = np.full_like(mtx_embed, 1e-8, dtype=np.float32)"
   ]
  },
  {
   "cell_type": "code",
   "execution_count": 5,
   "metadata": {},
   "outputs": [],
   "source": [
    "#build epoch\n",
    "epoch = 20\n",
    "learning_rate = 0.1\n",
    "good_quality = 0.8\n",
    "metric_res = {}\n",
    "for i in range(epoch):\n",
    "    for idx in range(len(dict_text)):\n",
    "        title_indices = dict_title[idx]\n",
    "        text_indices = dict_text[idx]\n",
    "        incor_text_indices = dict_incorrect_text[idx]\n",
    "        title_vec = sgd.doc_to_vec(title_indices, mtx_embed)\n",
    "        text_vec = sgd.doc_to_vec(text_indices, mtx_embed)\n",
    "        incor_text_vec = sgd.doc_to_vec(incor_text_indices, mtx_embed)\n",
    "\n",
    "        loss = sgd.calculate_loss(title_vec, text_vec, incor_text_vec)\n",
    "        grad_anchor, grad_truth, grad_wrong = sgd.calculate_gradient(title_vec, text_vec, incor_text_vec)\n",
    "    \n",
    "        #add vector to every row of matrix\n",
    "        #update accumulative matrix of gradient - keep it, it has influence on learning rate, if our parameter was changed a lot, it has less changes in future as learning rate will be decreased \n",
    "        mtx_grad[title_indices] += np.square(grad_anchor)/len(title_indices)\n",
    "        mtx_grad[text_indices] += np.square(grad_truth)/len(text_indices)\n",
    "        mtx_grad[incor_text_indices] += np.square(grad_wrong)/len(incor_text_indices)\n",
    "\n",
    "        #update matrix of embeddings\n",
    "        mtx_embed[title_indices] -= (learning_rate * grad_anchor/np.sqrt(mtx_grad[title_indices]))\n",
    "        mtx_embed[text_indices] -= (learning_rate * grad_truth/np.sqrt(mtx_grad[text_indices]))\n",
    "        mtx_embed[incor_text_indices] -= (learning_rate * grad_wrong/np.sqrt(mtx_grad[incor_text_indices]))\n",
    "\n",
    "    #calculate the metric in the end of epoch\n",
    "    # we need validation set for it - now get last 10 docs\n",
    "    #number docs on dictionary - 1 and 0 / on number words in doc\n",
    "    number_of_docs = len(dict_title_val)\n",
    "    mtx_title = sgd.get_document_term_sparse_mtx(dict_title_val, token_number)\n",
    "    mtx_text = sgd.get_document_term_sparse_mtx(dict_text_val, token_number)\n",
    "    mtx_title = (mtx_title/mtx_title.sum(axis=1))[:, np.newaxis]\n",
    "    mtx_text = (mtx_text/mtx_text.sum(axis=1))[:, np.newaxis]\n",
    "    mtx_title = mtx_title.dot(mtx_embed)\n",
    "    mtx_text = mtx_text.dot(mtx_embed)\n",
    "    #calculate matrix of title_indices and text_indices and multiply it, look on diag   \n",
    "    res = mtx_title.dot(mtx_text.T)\n",
    "    indexes = np.argmax(res, axis=1)\n",
    "    counter = 0   \n",
    "    for idx in range(number_of_docs):\n",
    "        if (idx == indexes[idx]):\n",
    "            counter += 1\n",
    "    metric = counter/number_of_docs\n",
    "    metric_res[i] = metric\n",
    "    #criteria for early stop\n",
    "    if(metric > good_quality):\n",
    "        break;        \n",
    "\n",
    "\n"
   ]
  },
  {
   "cell_type": "code",
   "execution_count": 6,
   "metadata": {},
   "outputs": [
    {
     "data": {
      "image/png": "[encoded data removed]",
      "text/plain": [
       "<Figure size 432x288 with 1 Axes>"
      ]
     },
     "metadata": {
      "needs_background": "light"
     },
     "output_type": "display_data"
    }
   ],
   "source": [
    "x, y = zip(*metric_res.items()) # unpack a list of pairs into two tuples\n",
    "plt.plot(x, y)\n",
    "plt.show()"
   ]
  },
  {
   "cell_type": "code",
   "execution_count": 7,
   "metadata": {},
   "outputs": [
    {
     "data": {
      "text/plain": [
       "matrix([[  5.4421955 ,  -1.7373425 ,   1.43631831, ...,   4.8000366 ,\n",
       "           0.47950566,   2.89896708],\n",
       "        [ -1.97534146,   4.19479803,  -3.8395173 , ...,   0.82559434,\n",
       "          -5.46617508,   3.03338888],\n",
       "        [  2.24744181, -11.38456049,  11.5548968 , ...,  -0.55829894,\n",
       "          14.33150294,  -7.30689764],\n",
       "        ...,\n",
       "        [-10.85796181,  -6.85457865,   5.99761995, ..., -11.15495483,\n",
       "           3.47317998,  -8.80698268],\n",
       "        [  5.65702614,   5.73578446,  -4.79274439, ...,   6.81075638,\n",
       "          -5.81879889,   5.04540909],\n",
       "        [ -2.96617123,  -1.73913302,   0.79456488, ...,  -2.65210379,\n",
       "           1.63446846,  -3.4652425 ]])"
      ]
     },
     "execution_count": 7,
     "metadata": {},
     "output_type": "execute_result"
    }
   ],
   "source": [
    "mtx_title"
   ]
  },
  {
   "cell_type": "code",
   "execution_count": 8,
   "metadata": {},
   "outputs": [],
   "source": [
    "a = mtx_embed.dot(mtx_embed.T)\n",
    "result = np.argmax(a, axis=1)"
   ]
  },
  {
   "cell_type": "code",
   "execution_count": 9,
   "metadata": {},
   "outputs": [
    {
     "data": {
      "text/plain": [
       "array([1013, 2034,   61, ...,   71,   71,   71])"
      ]
     },
     "execution_count": 9,
     "metadata": {},
     "output_type": "execute_result"
    }
   ],
   "source": [
    "result"
   ]
  },
  {
   "cell_type": "code",
   "execution_count": 10,
   "metadata": {},
   "outputs": [
    {
     "data": {
      "text/plain": [
       "'Reuters'"
      ]
     },
     "execution_count": 10,
     "metadata": {},
     "output_type": "execute_result"
    }
   ],
   "source": [
    "list(token_number.keys())[list(token_number.values())[409]] "
   ]
  },
  {
   "cell_type": "code",
   "execution_count": 11,
   "metadata": {},
   "outputs": [
    {
     "data": {
      "text/plain": [
       "6"
      ]
     },
     "execution_count": 11,
     "metadata": {},
     "output_type": "execute_result"
    }
   ],
   "source": [
    "counter"
   ]
  },
  {
   "cell_type": "code",
   "execution_count": 12,
   "metadata": {},
   "outputs": [],
   "source": [
    "counter = 0\n",
    "for idx in range(number_of_docs):\n",
    "    if idx == np.argmax(res, axis=1)[0]:\n",
    "        counter += 1\n"
   ]
  }
 ],
 "metadata": {
  "interpreter": {
   "hash": "397704579725e15f5c7cb49fe5f0341eb7531c82d19f2c29d197e8b64ab5776b"
  },
  "kernelspec": {
   "display_name": "Python 3.9.5 64-bit",
   "language": "python",
   "name": "python3"
  },
  "language_info": {
   "codemirror_mode": {
    "name": "ipython",
    "version": 3
   },
   "file_extension": ".py",
   "mimetype": "text/x-python",
   "name": "python",
   "nbconvert_exporter": "python",
   "pygments_lexer": "ipython3",
   "version": "3.9.5"
  },
  "orig_nbformat": 4
 },
 "nbformat": 4,
 "nbformat_minor": 2
}
