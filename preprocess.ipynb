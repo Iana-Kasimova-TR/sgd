{
 "cells": [
  {
   "cell_type": "code",
   "execution_count": 29,
   "metadata": {
    "slideshow": {
     "slide_type": "slide"
    }
   },
   "outputs": [
    {
     "name": "stderr",
     "output_type": "stream",
     "text": [
      "\u001b[32m\u001b[1m   Resolving\u001b[22m\u001b[39m package versions...\n"
     ]
    },
    {
     "name": "stderr",
     "output_type": "stream",
     "text": [
      "\u001b[32m\u001b[1m  No Changes\u001b[22m\u001b[39m to `~/.julia/environments/v1.8/Project.toml`\n",
      "\u001b[32m\u001b[1m  No Changes\u001b[22m\u001b[39m to `~/.julia/environments/v1.8/Manifest.toml`\n"
     ]
    },
    {
     "ename": "Pkg.Types.PkgError",
     "evalue": "The following package names could not be resolved:\n * Base (not found in project, manifest or registry)\n\u001b[36m   Suggestions:\u001b[39m \u001b[0m\u001b[1mB\u001b[22m\u001b[0m\u001b[1ma\u001b[22m\u001b[0m\u001b[1ms\u001b[22m\u001b[0m\u001b[1me\u001b[22m58 \u001b[0m\u001b[1mB\u001b[22m\u001b[0m\u001b[1ma\u001b[22m\u001b[0m\u001b[1ms\u001b[22m\u001b[0m\u001b[1me\u001b[22m64 \u001b[0m\u001b[1mB\u001b[22m\u001b[0m\u001b[1ma\u001b[22m\u001b[0m\u001b[1ms\u001b[22m\u001b[0m\u001b[1me\u001b[22mlet \u001b[0m\u001b[1mB\u001b[22m\u001b[0m\u001b[1ma\u001b[22m\u001b[0m\u001b[1ms\u001b[22m\u001b[0m\u001b[1me\u001b[22msAndSamples Q\u001b[0m\u001b[1mB\u001b[22m\u001b[0m\u001b[1ma\u001b[22m\u001b[0m\u001b[1ms\u001b[22m\u001b[0m\u001b[1me\u001b[22m ML\u001b[0m\u001b[1mB\u001b[22m\u001b[0m\u001b[1ma\u001b[22m\u001b[0m\u001b[1ms\u001b[22m\u001b[0m\u001b[1me\u001b[22m XC\u001b[0m\u001b[1mB\u001b[22m\u001b[0m\u001b[1ma\u001b[22m\u001b[0m\u001b[1ms\u001b[22m\u001b[0m\u001b[1me\u001b[22md",
     "output_type": "error",
     "traceback": [
      "The following package names could not be resolved:\n",
      " * Base (not found in project, manifest or registry)\n",
      "\u001b[36m   Suggestions:\u001b[39m \u001b[0m\u001b[1mB\u001b[22m\u001b[0m\u001b[1ma\u001b[22m\u001b[0m\u001b[1ms\u001b[22m\u001b[0m\u001b[1me\u001b[22m58 \u001b[0m\u001b[1mB\u001b[22m\u001b[0m\u001b[1ma\u001b[22m\u001b[0m\u001b[1ms\u001b[22m\u001b[0m\u001b[1me\u001b[22m64 \u001b[0m\u001b[1mB\u001b[22m\u001b[0m\u001b[1ma\u001b[22m\u001b[0m\u001b[1ms\u001b[22m\u001b[0m\u001b[1me\u001b[22mlet \u001b[0m\u001b[1mB\u001b[22m\u001b[0m\u001b[1ma\u001b[22m\u001b[0m\u001b[1ms\u001b[22m\u001b[0m\u001b[1me\u001b[22msAndSamples Q\u001b[0m\u001b[1mB\u001b[22m\u001b[0m\u001b[1ma\u001b[22m\u001b[0m\u001b[1ms\u001b[22m\u001b[0m\u001b[1me\u001b[22m ML\u001b[0m\u001b[1mB\u001b[22m\u001b[0m\u001b[1ma\u001b[22m\u001b[0m\u001b[1ms\u001b[22m\u001b[0m\u001b[1me\u001b[22m XC\u001b[0m\u001b[1mB\u001b[22m\u001b[0m\u001b[1ma\u001b[22m\u001b[0m\u001b[1ms\u001b[22m\u001b[0m\u001b[1me\u001b[22md\n",
      "\n",
      "Stacktrace:\n",
      "  [1] pkgerror(msg::String)\n",
      "    @ Pkg.Types /Applications/Julia-1.8.app/Contents/Resources/julia/share/julia/stdlib/v1.8/Pkg/src/Types.jl:67\n",
      "  [2] ensure_resolved(ctx::Pkg.Types.Context, manifest::Pkg.Types.Manifest, pkgs::Vector{Pkg.Types.PackageSpec}; registry::Bool)\n",
      "    @ Pkg.Types /Applications/Julia-1.8.app/Contents/Resources/julia/share/julia/stdlib/v1.8/Pkg/src/Types.jl:952\n",
      "  [3] add(ctx::Pkg.Types.Context, pkgs::Vector{Pkg.Types.PackageSpec}; preserve::Pkg.Types.PreserveLevel, platform::Base.BinaryPlatforms.Platform, kwargs::Base.Pairs{Symbol, VSCodeServer.IJuliaCore.IJuliaStdio{Base.PipeEndpoint, typeof(VSCodeServer.io_send_callback)}, Tuple{Symbol}, NamedTuple{(:io,), Tuple{VSCodeServer.IJuliaCore.IJuliaStdio{Base.PipeEndpoint, typeof(VSCodeServer.io_send_callback)}}}})\n",
      "    @ Pkg.API /Applications/Julia-1.8.app/Contents/Resources/julia/share/julia/stdlib/v1.8/Pkg/src/API.jl:264\n",
      "  [4] add(pkgs::Vector{Pkg.Types.PackageSpec}; io::VSCodeServer.IJuliaCore.IJuliaStdio{Base.PipeEndpoint, typeof(VSCodeServer.io_send_callback)}, kwargs::Base.Pairs{Symbol, Union{}, Tuple{}, NamedTuple{(), Tuple{}}})\n",
      "    @ Pkg.API /Applications/Julia-1.8.app/Contents/Resources/julia/share/julia/stdlib/v1.8/Pkg/src/API.jl:156\n",
      "  [5] add(pkgs::Vector{Pkg.Types.PackageSpec})\n",
      "    @ Pkg.API /Applications/Julia-1.8.app/Contents/Resources/julia/share/julia/stdlib/v1.8/Pkg/src/API.jl:145\n",
      "  [6] #add#27\n",
      "    @ /Applications/Julia-1.8.app/Contents/Resources/julia/share/julia/stdlib/v1.8/Pkg/src/API.jl:144 [inlined]\n",
      "  [7] add\n",
      "    @ /Applications/Julia-1.8.app/Contents/Resources/julia/share/julia/stdlib/v1.8/Pkg/src/API.jl:144 [inlined]\n",
      "  [8] #add#26\n",
      "    @ /Applications/Julia-1.8.app/Contents/Resources/julia/share/julia/stdlib/v1.8/Pkg/src/API.jl:143 [inlined]\n",
      "  [9] add(pkg::String)\n",
      "    @ Pkg.API /Applications/Julia-1.8.app/Contents/Resources/julia/share/julia/stdlib/v1.8/Pkg/src/API.jl:143\n",
      " [10] top-level scope\n",
      "    @ ~/sgd/preprocess.ipynb:3\n",
      " [11] eval\n",
      "    @ ./boot.jl:368 [inlined]\n",
      " [12] include_string(mapexpr::typeof(REPL.softscope), mod::Module, code::String, filename::String)\n",
      "    @ Base ./loading.jl:1428\n",
      " [13] #invokelatest#2\n",
      "    @ ./essentials.jl:729 [inlined]\n",
      " [14] invokelatest\n",
      "    @ ./essentials.jl:726 [inlined]\n",
      " [15] (::VSCodeServer.var\"#164#165\"{VSCodeServer.NotebookRunCellArguments, String})()\n",
      "    @ VSCodeServer ~/.vscode/extensions/julialang.language-julia-1.6.24/scripts/packages/VSCodeServer/src/serve_notebook.jl:19\n",
      " [16] withpath(f::VSCodeServer.var\"#164#165\"{VSCodeServer.NotebookRunCellArguments, String}, path::String)\n",
      "    @ VSCodeServer ~/.vscode/extensions/julialang.language-julia-1.6.24/scripts/packages/VSCodeServer/src/repl.jl:184\n",
      " [17] notebook_runcell_request(conn::VSCodeServer.JSONRPC.JSONRPCEndpoint{Base.PipeEndpoint, Base.PipeEndpoint}, params::VSCodeServer.NotebookRunCellArguments)\n",
      "    @ VSCodeServer ~/.vscode/extensions/julialang.language-julia-1.6.24/scripts/packages/VSCodeServer/src/serve_notebook.jl:13\n",
      " [18] dispatch_msg(x::VSCodeServer.JSONRPC.JSONRPCEndpoint{Base.PipeEndpoint, Base.PipeEndpoint}, dispatcher::VSCodeServer.JSONRPC.MsgDispatcher, msg::Dict{String, Any})\n",
      "    @ VSCodeServer.JSONRPC ~/.vscode/extensions/julialang.language-julia-1.6.24/scripts/packages/JSONRPC/src/typed.jl:67\n",
      " [19] serve_notebook(pipename::String, outputchannel_logger::Base.CoreLogging.SimpleLogger; crashreporting_pipename::String)\n",
      "    @ VSCodeServer ~/.vscode/extensions/julialang.language-julia-1.6.24/scripts/packages/VSCodeServer/src/serve_notebook.jl:136\n",
      " [20] top-level scope\n",
      "    @ ~/.vscode/extensions/julialang.language-julia-1.6.24/scripts/notebook/notebook.jl:32\n",
      " [21] include(mod::Module, _path::String)\n",
      "    @ Base ./Base.jl:419\n",
      " [22] exec_options(opts::Base.JLOptions)\n",
      "    @ Base ./client.jl:303\n",
      " [23] _start()\n",
      "    @ Base ./client.jl:522"
     ]
    }
   ],
   "source": [
    "import Pkg; Pkg.add(\"CSV\")\n",
    "using CSV\n",
    "import Pkg; Pkg.add(\"Base\")\n",
    "using Base.Iterators: flatten"
   ]
  },
  {
   "cell_type": "code",
   "execution_count": 30,
   "metadata": {
    "slideshow": {
     "slide_type": "fragment"
    }
   },
   "outputs": [
    {
     "data": {
      "text/plain": [
       "art_map (generic function with 1 method)"
      ]
     },
     "metadata": {},
     "output_type": "display_data"
    }
   ],
   "source": [
    "Article{T} = Pair{T, T}\n",
    "art_map(f, a) = f(a.first) => f(a.second)"
   ]
  },
  {
   "cell_type": "code",
   "execution_count": 31,
   "metadata": {
    "slideshow": {
     "slide_type": "slide"
    }
   },
   "outputs": [
    {
     "data": {
      "text/plain": [
       "read_csvs (generic function with 1 method)"
      ]
     },
     "metadata": {},
     "output_type": "display_data"
    }
   ],
   "source": [
    "function read_csvs(files::Vector{String})\n",
    "    data = Set{Article{String}}()\n",
    "    for row in flatten(map(CSV.File, files))\n",
    "        art = (row.clean_title=> row.clean_text)\n",
    "        any(ismissing, art) ? continue : push!(data, art)\n",
    "    end\n",
    "    collect(data)\n",
    "end"
   ]
  },
  {
   "cell_type": "code",
   "execution_count": 56,
   "metadata": {
    "slideshow": {
     "slide_type": "slide"
    }
   },
   "outputs": [
    {
     "data": {
      "text/plain": [
       "\"навык поиска работы\" => \"есть много причин почему классные разработчики часто долго не могут найти работу а компании  классных разработчиков я хочу поговорить об одной из наиболее распространённыхэта причина  абсолютно неправильный деструктивный подход к проведению технических собеседований это похоже на инфекционное заболевание которым болеют интервьюеры и заражают тех кого они собеседуют некоторые из тех кого они собеседуют потом тоже сами становятся интервьюерами и заражают тех кого они собеседуют и так далеепроблема в том что it-индустрия предполагает что любой опытный разработчик умеет собеседовать других разработчиков откуда такое убеждение это же вывод не основанный ни на чём он этому обучался он что-то специально об этом читал он готовился не во всех случаях разумеется но чаще чем хотелось бы ответ на все три вопроса  нет потому что и так прокатывает тебе говорят  ищем сотрудника под новую вакансию завтра у тебя собеседование а у тебя кроме этого собеседования ещё задач столько что на весь оставшийся день хватит в итоге всё что тебе остаётся  прособеседовать так как когда-то собеседовали тебя не задумываясь о том насколько это эффективночто это за собеседования они не абсолютно одинаковые но одна из их особенностей  теоретические вопросы ответы на которые кандидат по их мнению обязан заучить наизусть такие собеседования отвратительны тем что дают огромное количество ошибок первого и второго рода по сути настолько много что можно использовать вместо собеседований генератор случайных чисел и результаты будут приблизительно те же самыес одной стороны есть кандидаты которые специально долго готовились к этим собеседованиям  запоминали ответы на эти вопросы нет конечно в работе им это не помогает но собеседования в такие компании им проходить намного проще в работе они могут ничего из себя не представлять но интервьюеру не важно какой код разработчик пишет им не важна практика заучил ответы наизусть  молодец нет  до свиданияс другой стороны те кто специально не готовился а тратил вместо этого своё время на обучение и практику такие собеседования проходить вообще не способны нет конечно на какие-то вопросы они могут ответить это может быть даже довольно много вопросов но обычно далеко не всекак результат  легче всего устроиться на работу «джамперам» люди которые всю карьеру раз в несколько месяцев меняют работу лучше всего адаптировались к поиску работы и в том числе к таким собеседованиям это удивительно компании не хотят нанимать людей которые с большой вероятностью уйдут через несколько месяцев но они строят свой процесс найма так чтобы очень хорошая вероятность получить оффер была именно у этих кандидатов сложнее всего соответственно наоборот тем кто обычно работает в одной компании несколько лет у них могут быть очень хорошие способности именно в работе а вот в поиске работы  нет такие собеседования они в среднем пройти без специальной подготовки не могутразные разработчики  разный опыт разные приоритеты разный подход к обучению нельзя ожидать что все учились в университете прочитали не меньше 10 книг по программированию запомнили наизусть всё что есть в стандартной библиотеке и часто используется и теперь будут вам это всё пересказывать как ребёнок читающий стихотворение с табуреточки есть люди которые просто много лет пишут код и делают это так как может мало кто из тех кто всё-таки заучил ответы на их идиотские вопросы но только они об этом никогда не узнают потому что этот кандидат выражаясь словами роберта свини по их мнению «недостаточно синиор»роберт свини о собеседованиях  переводя отсеял даниэля бухмюллера на собеседовании в netflix после 60-минутного разговора у меня ещё оставались сомнения так что я решил что он наверное «недостаточно синиор» тогда он устроился в amazon и соосновал amazon prime air их сервис доставки дронами и вошёл в список fast company «most creative people» под номером 2с какого-то момента мы программисты должны осознать что просто не способны оценить квалификацию коллег за 60-минутное собеседование пока что мы нанимаем тех кто умеет хорошо проходить собеседования но далеко не обязательно умеет хорошо делать свою работу и упускаем таких людей как даниэль бухмюллерrobert sweeneyfounder and ceofacetроберт свини о собеседованиях  оригинал на английскомi turned down daniel buchmueller for a job at netflix after a 60 minute interview i was on the fence so i concluded that he “wasn’t senior enough” he went to amazon instead where he co-founded amazon prime air their drone delivery service and was #2 on fast company’s “most creative people” listat some point we programmers are going to have to admit that we really can’t judge another programmers technical abilities in a 60 min interview we end up hiring programmers that are good at interviewing but not necessarily good at doing the job and we miss out on engineers like danielrobert sweeneyfounder and ceofacetпоэтому да так и происходит разработчик имеет 10 лет коммерческого опыта в разработке программного обеспечения у него свободный английский он работал во многих компаниях на разных проектах был ведущим разработчиком однако по итогам такого собеседования получается что он  мидлдоходит до смешного бывают интервьюеры-бараны которые в какой-то момент начинают получать удовольствие от того что «завалили» кандидата там уже вопросы могут специально подбираться таким образом чтобы кандидат на многие из них не смог ответитькомпании в 2020 году в среднем потрясающе наивны им кажется что достаточно узнать заучил ли кандидат ответы на их 20 вопросов чтобы определить подойдёт ли он соответственно даже очень хороший кандидат который круто мог бы делать эту работу возможно ответит только на несколько вопросов может быть это и могло бы принести хотя бы какую-то пользу в оценке кандидата но тогда во многих случаях вопросы надо было бы подбирать специально под него потому что если вопросы общие для всех с чего вдруг они дадут какое-то объективное представление о кандидате обычно интервьюер просто спрашивает о том что хорошо знает сам но опыт интервьюера не может и не должен совпадать с опытом всех кандидатов они делали другие задачи использовали другие подходы в разработке читали статьи других авторов общались с другими людьми ходили на другие мероприятия если кандидат задаст тому же самому интервьюеру свои 20 вопросов он точно так же ответит только на нескольких из них тогда получается он тоже «недостаточно синиор» абсурддавайте будем рациональнее если вам нужен человек чтобы делать работу проверьте как он делает работу ещё можете проверить как он обучается и насколько легко ему начать использовать технологию о которой он узнал час назад не надо проверять заучил ли он наизусть ответы на вопросы каждый из этих ответов может быть нужен 1 раз в 2 года и гуглится за 3 минутыпочитатьна английскомjoel spolsky the guerrilla guide to interviewing version 30eduards sizovs i never liked technical interviewsglen mccallum senior developers are getting rejected for jobsна русскомвастрикинсайд #46  «краткий гайд о том как нанимать нормальных людей»перевод статьи «senior developers are getting rejected for jobs»антон птицын  «я провел сто собеседований отказал сотне людей  и только потом научился собеседовать»\""
      ]
     },
     "metadata": {},
     "output_type": "display_data"
    }
   ],
   "source": [
    "data_dir = \"data\"\n",
    "files = joinpath.(data_dir, readdir(data_dir))\n",
    "data = read_csvs(files)\n",
    "unique!(a->a.first, data)\n",
    "unique!(a->a.second, data)\n",
    "data |> rand"
   ]
  },
  {
   "cell_type": "code",
   "execution_count": 33,
   "metadata": {
    "slideshow": {
     "slide_type": "slide"
    }
   },
   "outputs": [
    {
     "data": {
      "text/plain": [
       "tokenize (generic function with 3 methods)"
      ]
     },
     "metadata": {},
     "output_type": "display_data"
    }
   ],
   "source": [
    "function tokenize(s::String, pattern = r\"\\w+(-\\w+)?\")\n",
    "    lowered = lowercase(s)\n",
    "    map(eachmatch(pattern, lowered)) do token\n",
    "        token.match\n",
    "    end\n",
    "end\n",
    "\n",
    "tokenize(a::Article{String}) = art_map(tokenize, a)"
   ]
  },
  {
   "cell_type": "code",
   "execution_count": 57,
   "metadata": {
    "slideshow": {
     "slide_type": "slide"
    }
   },
   "outputs": [
    {
     "data": {
      "text/plain": [
       "SubString{String}[\"монорепозитории\", \"пожалуйста\", \"не\", \"надо\", \"часть\", \"2\"] => SubString{String}[\"всем\", \"приветитак\", \"новая\", \"порция\", \"обещанного\", \"холивара\", \"про\", \"монорепозитории\", \"в\", \"первой\"  …  \"компаний\", \"которые\", \"умеют\", \"в\", \"монорепозиторий\", \"остальным\", \"даже\", \"не\", \"стоит\", \"пытаться\"]"
      ]
     },
     "metadata": {},
     "output_type": "display_data"
    }
   ],
   "source": [
    "data = tokenize.(data)\n",
    "data |> rand"
   ]
  },
  {
   "cell_type": "code",
   "execution_count": 35,
   "metadata": {
    "scrolled": true,
    "slideshow": {
     "slide_type": "fragment"
    }
   },
   "outputs": [
    {
     "data": {
      "text/plain": [
       "Dict{String, Int64} with 1809 entries:\n",
       "  \"нужный\"        => 21\n",
       "  \"комментарии\"   => 22\n",
       "  \"той\"           => 56\n",
       "  \"похоже\"        => 29\n",
       "  \"способом\"      => 21\n",
       "  \"данной\"        => 50\n",
       "  \"этими\"         => 33\n",
       "  \"32\"            => 29\n",
       "  \"думаю\"         => 35\n",
       "  \"которые\"       => 288\n",
       "  \"понять\"        => 79\n",
       "  \"представить\"   => 33\n",
       "  \"получите\"      => 21\n",
       "  \"80\"            => 27\n",
       "  \"нечто\"         => 30\n",
       "  \"автоматически\" => 43\n",
       "  \"ранее\"         => 61\n",
       "  \"выхода\"        => 29\n",
       "  \"20\"            => 96\n",
       "  ⋮               => ⋮"
      ]
     },
     "metadata": {},
     "output_type": "display_data"
    }
   ],
   "source": [
    "counts = Dict{String, Int}()\n",
    "for art in data, token in union(art.first, art.second)\n",
    "    counts[token] = get(counts, token, 0) + 1\n",
    "end\n",
    "filter!(kv->kv.second > 20, counts)"
   ]
  },
  {
   "cell_type": "code",
   "execution_count": 36,
   "metadata": {
    "slideshow": {
     "slide_type": "slide"
    }
   },
   "outputs": [
    {
     "data": {
      "text/plain": [
       "encode (generic function with 2 methods)"
      ]
     },
     "metadata": {},
     "output_type": "display_data"
    }
   ],
   "source": [
    "tokens = collect(keys(counts))\n",
    "pushfirst!(tokens, \"<UNK>\")\n",
    "lookup = Dict(reverse.(enumerate(tokens)))\n",
    "Tokens = Vector{SubString{String}}\n",
    "encode(lookup, tokens::Tokens) = get.(Ref(lookup), tokens, 1)\n",
    "encode(lookup, art::Article{Tokens}) = art_map(x->encode(lookup, x), art) "
   ]
  },
  {
   "cell_type": "code",
   "execution_count": 59,
   "metadata": {},
   "outputs": [
    {
     "data": {
      "text/plain": [
       "388"
      ]
     },
     "metadata": {},
     "output_type": "display_data"
    }
   ],
   "source": [
    "length(data)"
   ]
  },
  {
   "cell_type": "code",
   "execution_count": 58,
   "metadata": {
    "slideshow": {
     "slide_type": "slide"
    }
   },
   "outputs": [
    {
     "data": {
      "text/plain": [
       "[269, 82, 1, 391, 1, 668, 1, 1, 1] => [1, 294, 1, 1, 926, 1, 1, 1, 307, 1393  …  422, 1, 1, 1, 943, 82, 1, 1, 1, 1]"
      ]
     },
     "metadata": {},
     "output_type": "display_data"
    }
   ],
   "source": [
    "data = encode.(Ref(lookup), data)\n",
    "filter!(art->any(!isone, art.first), data)\n",
    "filter!(art->any(!isone, art.second), data)\n",
    "#filter!(art->10 < length(art.second) < 100, data)\n",
    "#filter!(art->5 < length(art.first) < 20, data)\n",
    "\n",
    "#filter!(data) do art\n",
    "    #i = length(intersect(art.first, art.second))\n",
    "    #u = length(union(art.first, art.second))\n",
    "    #i / u < 0.5\n",
    "#end\n",
    "\n",
    "data |> rand"
   ]
  },
  {
   "cell_type": "code",
   "execution_count": 39,
   "metadata": {},
   "outputs": [
    {
     "name": "stderr",
     "output_type": "stream",
     "text": [
      "\u001b[32m\u001b[1m   Resolving\u001b[22m\u001b[39m package versions...\n"
     ]
    },
    {
     "name": "stderr",
     "output_type": "stream",
     "text": [
      "\u001b[32m\u001b[1m   Installed\u001b[22m\u001b[39m BSON ─ v0.3.5\n",
      "\u001b[32m\u001b[1m    Updating\u001b[22m\u001b[39m `~/.julia/environments/v1.8/Project.toml`\n",
      " \u001b[90m [fbb218c0] \u001b[39m\u001b[92m+ BSON v0.3.5\u001b[39m\n",
      "\u001b[32m\u001b[1m    Updating\u001b[22m\u001b[39m `~/.julia/environments/v1.8/Manifest.toml`\n",
      " \u001b[90m [fbb218c0] \u001b[39m\u001b[92m+ BSON v0.3.5\u001b[39m\n"
     ]
    },
    {
     "name": "stderr",
     "output_type": "stream",
     "text": [
      "\u001b[32m\u001b[1mPrecompiling\u001b[22m\u001b[39m project...\n"
     ]
    },
    {
     "name": "stderr",
     "output_type": "stream",
     "text": [
      "\u001b[32m  ✓ \u001b[39mBSON\n",
      "  1 dependency successfully precompiled in 1 seconds. 21 already precompiled.\n"
     ]
    }
   ],
   "source": [
    "import Pkg; Pkg.add(\"BSON\")"
   ]
  },
  {
   "cell_type": "code",
   "execution_count": 60,
   "metadata": {
    "slideshow": {
     "slide_type": "slide"
    }
   },
   "outputs": [],
   "source": [
    "using BSON: @save\n",
    "n_test = 150\n",
    "train_data = collect.(data[(n_test+1):end])\n",
    "test_data = collect.(data[1:n_test])\n",
    "@save \"data.bson\" tokens train_data test_data"
   ]
  }
 ],
 "metadata": {
  "celltoolbar": "Slideshow",
  "kernelspec": {
   "display_name": "Julia 1.8.2",
   "language": "julia",
   "name": "julia-1.8"
  },
  "language_info": {
   "file_extension": ".jl",
   "mimetype": "application/julia",
   "name": "julia",
   "version": "1.8.2"
  }
 },
 "nbformat": 4,
 "nbformat_minor": 2
}
