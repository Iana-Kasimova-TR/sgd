{
 "cells": [
  {
   "cell_type": "code",
   "execution_count": 1,
   "metadata": {
    "slideshow": {
     "slide_type": "slide"
    }
   },
   "outputs": [],
   "source": [
    "using BSON: @load\n",
    "using Random: randperm\n",
    "using LinearAlgebra: dot\n",
    "using Printf: @printf\n",
    "@load \"data.bson\" tokens train_data test_data"
   ]
  },
  {
   "cell_type": "code",
   "execution_count": 2,
   "metadata": {
    "slideshow": {
     "slide_type": "slide"
    }
   },
   "outputs": [],
   "source": [
    "T = Vector{Vector{Vector{Int}}}\n",
    "train_data = convert(T, train_data)\n",
    "test_data = convert(T, test_data);"
   ]
  },
  {
   "cell_type": "code",
   "execution_count": 3,
   "metadata": {
    "slideshow": {
     "slide_type": "slide"
    }
   },
   "outputs": [],
   "source": [
    "struct Embedding <: AbstractMatrix{Float32}\n",
    "    data::Matrix{Float32}\n",
    "    ∑Δ²::Matrix{Float32}\n",
    "end"
   ]
  },
  {
   "cell_type": "code",
   "execution_count": 4,
   "metadata": {
    "slideshow": {
     "slide_type": "slide"
    }
   },
   "outputs": [
    {
     "data": {
      "text/plain": [
       "Embedding"
      ]
     },
     "metadata": {},
     "output_type": "display_data"
    }
   ],
   "source": [
    "ϵ = 1.0f-8\n",
    "Embedding(A::Matrix) = Embedding(A, fill(ϵ, size(A)))\n",
    "Embedding(emb_size, vocab_size; range::Float32 = 0.001f0) =\n",
    "    Embedding(randn(Float32, emb_size, vocab_size) .* range)"
   ]
  },
  {
   "cell_type": "code",
   "execution_count": 5,
   "metadata": {
    "slideshow": {
     "slide_type": "slide"
    }
   },
   "outputs": [],
   "source": [
    "Base.size(A::Embedding) = size(A.data)\n",
    "Base.getindex(A::Embedding, I::Vararg{Int, 2}) = getindex(A.data, I...)\n",
    "Base.setindex!(A::Embedding, v, I::Vararg{Int, 2}) = setindex!(A.data, v, I...)"
   ]
  },
  {
   "cell_type": "code",
   "execution_count": 6,
   "metadata": {
    "slideshow": {
     "slide_type": "slide"
    }
   },
   "outputs": [],
   "source": [
    "(m::Embedding)(idx::Vector) = \n",
    "    @inbounds @views sum(m[:, idx], dims = 2)"
   ]
  },
  {
   "cell_type": "code",
   "execution_count": 7,
   "metadata": {
    "slideshow": {
     "slide_type": "slide"
    }
   },
   "outputs": [
    {
     "data": {
      "text/plain": [
       "update! (generic function with 1 method)"
      ]
     },
     "metadata": {},
     "output_type": "display_data"
    }
   ],
   "source": [
    "function update!(emb::Embedding, idx::Vector{Int}, Δ::Matrix{Float32}, η::Float32)\n",
    "    p = @inbounds @view emb[:, idx]\n",
    "    g = @inbounds @view emb.∑Δ²[:, idx]\n",
    "    @. g += Δ^2\n",
    "    @. p -= Δ * η / (√g + ϵ)\n",
    "    nothing\n",
    "end"
   ]
  },
  {
   "cell_type": "code",
   "execution_count": 8,
   "metadata": {
    "slideshow": {
     "slide_type": "slide"
    }
   },
   "outputs": [
    {
     "data": {
      "text/plain": [
       "backward_hinge (generic function with 2 methods)"
      ]
     },
     "metadata": {},
     "output_type": "display_data"
    }
   ],
   "source": [
    "function backward_hinge(u::Matrix{Float32}, v::Matrix{Float32}, v̂::Matrix{Float32}, γ = 1.0f0)\n",
    "    loss = γ - dot(u, v) + dot(u, v̂)\n",
    "    if loss > 0\n",
    "        return (v̂ .- v, -u, u)\n",
    "    end\n",
    "end"
   ]
  },
  {
   "cell_type": "code",
   "execution_count": 9,
   "metadata": {
    "slideshow": {
     "slide_type": "slide"
    }
   },
   "outputs": [
    {
     "data": {
      "text/plain": [
       "top_k (generic function with 1 method)"
      ]
     },
     "metadata": {},
     "output_type": "display_data"
    }
   ],
   "source": [
    "top_k(vec, k) = \n",
    "    sortperm(vec, rev = true, alg = PartialQuickSort(k))[1:k]"
   ]
  },
  {
   "cell_type": "code",
   "execution_count": 10,
   "metadata": {
    "slideshow": {
     "slide_type": "slide"
    }
   },
   "outputs": [
    {
     "data": {
      "text/plain": [
       "recall_at_k (generic function with 2 methods)"
      ]
     },
     "metadata": {},
     "output_type": "display_data"
    }
   ],
   "source": [
    "function recall_at_k(emb, data, k = 10)\n",
    "    n_test = length(data)\n",
    "    \n",
    "    descr_emb = Array{Float32}(undef, size(emb, 1), n_test)\n",
    "    for i in 1:n_test\n",
    "        descr_emb[:, i] = emb(data[i][2])\n",
    "    end\n",
    "    \n",
    "    recall = count(1:n_test) do i\n",
    "        title_emb = emb(data[i][1])\n",
    "        i in top_k(vec(title_emb' * descr_emb), k)\n",
    "    end\n",
    "    \n",
    "    recall / n_test\n",
    "end"
   ]
  },
  {
   "cell_type": "code",
   "execution_count": 11,
   "metadata": {
    "slideshow": {
     "slide_type": "slide"
    }
   },
   "outputs": [
    {
     "data": {
      "text/plain": [
       "train! (generic function with 1 method)"
      ]
     },
     "metadata": {},
     "output_type": "display_data"
    }
   ],
   "source": [
    "function train!(emb::Embedding, idx::NTuple{3, Vector{Int}}, η::Float32)\n",
    "    embs = emb.(idx)\n",
    "    Δs = backward_hinge(embs...)\n",
    "    isnothing(Δs) && return nothing\n",
    "    foreach(idx, Δs) do i, Δ\n",
    "        update!(emb, i, Δ, η)\n",
    "    end\n",
    "end"
   ]
  },
  {
   "cell_type": "code",
   "execution_count": 12,
   "metadata": {
    "slideshow": {
     "slide_type": "slide"
    }
   },
   "outputs": [
    {
     "data": {
      "text/plain": [
       "train! (generic function with 2 methods)"
      ]
     },
     "metadata": {},
     "output_type": "display_data"
    }
   ],
   "source": [
    "function train!(emb::Embedding, data::T, η::Float32)\n",
    "    first = randperm(length(data))    \n",
    "    second = circshift(first, 1)\n",
    "    @inbounds for (f, s) in zip(first, second)\n",
    "        u, v = data[f]\n",
    "        rand(Bool) ? setdiff!(v, u) : setdiff!(u, v)\n",
    "        train!(emb, (u, v, data[s][2]), η)\n",
    "    end\n",
    "end"
   ]
  },
  {
   "cell_type": "code",
   "execution_count": 13,
   "metadata": {
    "slideshow": {
     "slide_type": "slide"
    }
   },
   "outputs": [
    {
     "data": {
      "text/plain": [
       "train! (generic function with 3 methods)"
      ]
     },
     "metadata": {},
     "output_type": "display_data"
    }
   ],
   "source": [
    "function train!(emb::Embedding, train_data::T, test_data::T, n_epochs::Int, η::Float32)\n",
    "    for epoch in 1:n_epochs\n",
    "        t = @elapsed train!(emb, train_data, η)\n",
    "        recall = recall_at_k(emb, test_data)\n",
    "        @printf \"Epoch %2i (%1.1fs): recall = %1.2f\\n\" epoch t recall\n",
    "    end\n",
    "end"
   ]
  },
  {
   "cell_type": "code",
   "execution_count": 14,
   "metadata": {
    "slideshow": {
     "slide_type": "slide"
    }
   },
   "outputs": [
    {
     "name": "stdout",
     "output_type": "stream",
     "text": [
      "Epoch  1 (1.3s): recall = 0.08\n",
      "Epoch  2 (0.4s): recall = 0.08\n"
     ]
    },
    {
     "name": "stdout",
     "output_type": "stream",
     "text": [
      "Epoch  3 (0.3s): recall = 0.08\n",
      "Epoch  4 (0.3s): recall = 0.06\n"
     ]
    },
    {
     "name": "stdout",
     "output_type": "stream",
     "text": [
      "Epoch  5 (0.2s): recall = 0.06\n",
      "Epoch  6 (0.2s): recall = 0.07\n"
     ]
    },
    {
     "name": "stdout",
     "output_type": "stream",
     "text": [
      "Epoch  7 (0.2s): recall = 0.07\n",
      "Epoch  8 (0.2s): recall = 0.07\n"
     ]
    },
    {
     "name": "stdout",
     "output_type": "stream",
     "text": [
      "Epoch  9 (0.2s): recall = 0.07\n",
      "Epoch 10 (0.1s): recall = 0.07\n"
     ]
    },
    {
     "name": "stdout",
     "output_type": "stream",
     "text": [
      "Epoch 11 (0.2s): recall = 0.06\n",
      "Epoch 12 (0.1s): recall = 0.07\n"
     ]
    },
    {
     "name": "stdout",
     "output_type": "stream",
     "text": [
      "Epoch 13 (0.1s): recall = 0.05\n",
      "Epoch 14 (0.1s): recall = 0.05\n"
     ]
    },
    {
     "name": "stdout",
     "output_type": "stream",
     "text": [
      "Epoch 15 (0.1s): recall = 0.07\n",
      "Epoch 16 (0.1s): recall = 0.07\n"
     ]
    },
    {
     "name": "stdout",
     "output_type": "stream",
     "text": [
      "Epoch 17 (0.2s): recall = 0.07\n",
      "Epoch 18 (0.1s): recall = 0.07\n"
     ]
    },
    {
     "name": "stdout",
     "output_type": "stream",
     "text": [
      "Epoch 19 (0.1s): recall = 0.08\n",
      "Epoch 20 (0.1s): recall = 0.09\n"
     ]
    }
   ],
   "source": [
    "emb = Embedding(256, length(tokens))\n",
    "train!(emb, train_data, test_data, 20, 1f0)"
   ]
  },
  {
   "cell_type": "code",
   "execution_count": 15,
   "metadata": {
    "slideshow": {
     "slide_type": "slide"
    }
   },
   "outputs": [
    {
     "data": {
      "text/plain": [
       "knn (generic function with 2 methods)"
      ]
     },
     "metadata": {},
     "output_type": "display_data"
    }
   ],
   "source": [
    "function knn(query, k = 10)\n",
    "    scores = dropdims(emb(indexin(query, tokens))' * emb, dims = 1)\n",
    "    neighbours = sortperm(scores, alg = PartialQuickSort(k), rev = true)[1:k]\n",
    "    tokens[neighbours]\n",
    "end"
   ]
  },
  {
   "cell_type": "code",
   "execution_count": 20,
   "metadata": {
    "slideshow": {
     "slide_type": "slide"
    }
   },
   "outputs": [
    {
     "data": {
      "text/plain": [
       "10-element Vector{Any}:\n",
       " \"гораздо\"\n",
       " \"неё\"\n",
       " \"сказал\"\n",
       " \"отправлять\"\n",
       " \"я\"\n",
       " \"мы\"\n",
       " \"рассказал\"\n",
       " \"организовать\"\n",
       " \"участие\"\n",
       " \"сейчас\""
      ]
     },
     "metadata": {},
     "output_type": "display_data"
    }
   ],
   "source": [
    "knn([\"ситуация\"])"
   ]
  }
 ],
 "metadata": {
  "celltoolbar": "Slideshow",
  "kernelspec": {
   "display_name": "Julia 1.8.2",
   "language": "julia",
   "name": "julia-1.8"
  },
  "language_info": {
   "file_extension": ".jl",
   "mimetype": "application/julia",
   "name": "julia",
   "version": "1.8.2"
  }
 },
 "nbformat": 4,
 "nbformat_minor": 2
}
